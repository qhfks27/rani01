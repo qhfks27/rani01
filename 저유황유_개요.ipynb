{
  "nbformat": 4,
  "nbformat_minor": 0,
  "metadata": {
    "colab": {
      "name": "저유황유 개요.ipynb",
      "provenance": [],
      "authorship_tag": "ABX9TyNXhP4vUEmoQong0nzW0YNw",
      "include_colab_link": true
    },
    "kernelspec": {
      "name": "python3",
      "display_name": "Python 3"
    }
  },
  "cells": [
    {
      "cell_type": "markdown",
      "metadata": {
        "id": "view-in-github",
        "colab_type": "text"
      },
      "source": [
        "<a href=\"https://colab.research.google.com/github/qhfks27/rani01/blob/master/%EC%A0%80%EC%9C%A0%ED%99%A9%EC%9C%A0_%EA%B0%9C%EC%9A%94.ipynb\" target=\"_parent\"><img src=\"https://colab.research.google.com/assets/colab-badge.svg\" alt=\"Open In Colab\"/></a>"
      ]
    },
    {
      "cell_type": "markdown",
      "metadata": {
        "id": "paT2yYYnjM9s",
        "colab_type": "text"
      },
      "source": [
        "##IMO 2020\n",
        " > 2020년 1월 1일 부터 시행되는 국제해사기구(IMO)의 강화된 환경 규제 정책. 선박용 연료유의 황산화물 함유율을 현행 ‘3.5% 미만’에서 ‘0.5% 미만’으로 낮춘 저유황유를 쓰도록 강제하는 규제다.  \n",
        "  선박용 연료유는 전체 수송용 석유 수요는 10% 미만이지만 전체 SO2 배출량의 약 90%를 차지한다. 크루즈 선박 1대가 1일 배출하는 미세먼지는 자동차 100만대 배출분에 해당한다.\n",
        "\n",
        " >이에 따라 선주들은 황 함량이 3.5%인 기존 고유황유(HSFO)에서 0.5% 미만인 저유황유(VLSFO)로 적합한 연료를 사용하거나, 배출가스 처리장치인 스크러버를 장착하는 등 대응이 필요해진 상황이다.  \n",
        " 국내 정유 4사는 높아진 저유황유 수요를 만족시키기 위해 앞다퉈 저유황유 생산설비 투자를 늘리고 있다.\n",
        "\n",
        "##저유황유\n",
        "저유황유란 유황성분이 1% 이하인 원료를 말한다.\n",
        "\n",
        "\n"
      ]
    },
    {
      "cell_type": "markdown",
      "metadata": {
        "id": "jF9pmv3zjMNn",
        "colab_type": "text"
      },
      "source": [
        "##저유황유 시장\n",
        "최근 저유황유는 기존 선박유보다 약 30% 비싼 가격에 거래되고 있다. IMO2020 이후 저유황유 수요 증가에 따라 두 제품 간 가격 차는 더 벌어질 수 있다고 업계는 전망하고 있다.  \n",
        " 영국 에너지 시장조사기관인 에너지에스펙츠는 오는 2020년 전 세계 해상 연료유 수요 하루 300만배럴 중 저유황유 점유율이 50%를 상회할 것으로 내다봤고, 향후 하루 200만배럴 규모까지 확대될 것으로 예측했다."
      ]
    },
    {
      "cell_type": "markdown",
      "metadata": {
        "id": "WUNL_vpVm9e4",
        "colab_type": "text"
      },
      "source": [
        "##국내 정유사들의 대처\n",
        "국내 정유사들은 일반 정제설비 가동시 나오는 벙커C유와 같은 잔사유를 휘발유‧등유‧경유 등 고부가가치 높은 제품을 생산하는 고도화 설비를 갖추고 있다.\n",
        "\n",
        "* SK에너지 : 감압잔사유탈황설비(VRDS)구축, 기존 벙커C유 등 고유황중질유를 원료로 써서 저유황 중질유, 선박용 경유 등 저유황유 생산\n",
        "\n",
        "* 현대오일뱅크 : 초임계 용매 기술 적용, 현대 스타 출시\n",
        "\n",
        "* 에쓰오일 : 잔사유 탈황설비(RHDS) 증설\n",
        "\n",
        "* GS칼텍스 : 저유황유를 액화천연가스로 대체하고 저유황유는 선박유로 판매\n"
      ]
    }
  ]
}